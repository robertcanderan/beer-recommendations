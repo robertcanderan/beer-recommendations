{
 "cells": [
  {
   "cell_type": "code",
   "execution_count": 1,
   "metadata": {
    "collapsed": true
   },
   "outputs": [],
   "source": [
    "# a simple content-based recommendation engine using beer and brewery data from Kaggle"
   ]
  },
  {
   "cell_type": "code",
   "execution_count": 2,
   "metadata": {
    "collapsed": false
   },
   "outputs": [],
   "source": [
    "import pandas as pd\n",
    "import numpy as np\n",
    "import csv\n",
    "import statsmodels\n",
    "import sklearn\n",
    "from random import randint\n",
    "import redis\n",
    "from sklearn.metrics.pairwise import linear_kernel\n",
    "from sklearn import linear_model\n",
    "import math"
   ]
  },
  {
   "cell_type": "code",
   "execution_count": 133,
   "metadata": {
    "collapsed": true
   },
   "outputs": [],
   "source": [
    "from sklearn.naive_bayes import MultinomialNB"
   ]
  },
  {
   "cell_type": "code",
   "execution_count": 24,
   "metadata": {
    "collapsed": true
   },
   "outputs": [],
   "source": [
    "beers = pd.read_csv('beers.csv')\n",
    "breweries = pd.read_csv('breweries.csv')"
   ]
  },
  {
   "cell_type": "code",
   "execution_count": 25,
   "metadata": {
    "collapsed": true
   },
   "outputs": [],
   "source": [
    "del beers[\"Unnamed: 0\"]\n",
    "del breweries[\"Unnamed: 0\"]"
   ]
  },
  {
   "cell_type": "code",
   "execution_count": 26,
   "metadata": {
    "collapsed": false
   },
   "outputs": [
    {
     "data": {
      "text/html": [
       "<div>\n",
       "<table border=\"1\" class=\"dataframe\">\n",
       "  <thead>\n",
       "    <tr style=\"text-align: right;\">\n",
       "      <th></th>\n",
       "      <th>abv</th>\n",
       "      <th>ibu</th>\n",
       "      <th>id</th>\n",
       "      <th>name</th>\n",
       "      <th>style</th>\n",
       "      <th>brewery_id</th>\n",
       "      <th>ounces</th>\n",
       "    </tr>\n",
       "  </thead>\n",
       "  <tbody>\n",
       "    <tr>\n",
       "      <th>0</th>\n",
       "      <td>0.050</td>\n",
       "      <td>NaN</td>\n",
       "      <td>1436</td>\n",
       "      <td>Pub Beer</td>\n",
       "      <td>American Pale Lager</td>\n",
       "      <td>408</td>\n",
       "      <td>12.0</td>\n",
       "    </tr>\n",
       "    <tr>\n",
       "      <th>1</th>\n",
       "      <td>0.066</td>\n",
       "      <td>NaN</td>\n",
       "      <td>2265</td>\n",
       "      <td>Devil's Cup</td>\n",
       "      <td>American Pale Ale (APA)</td>\n",
       "      <td>177</td>\n",
       "      <td>12.0</td>\n",
       "    </tr>\n",
       "    <tr>\n",
       "      <th>2</th>\n",
       "      <td>0.071</td>\n",
       "      <td>NaN</td>\n",
       "      <td>2264</td>\n",
       "      <td>Rise of the Phoenix</td>\n",
       "      <td>American IPA</td>\n",
       "      <td>177</td>\n",
       "      <td>12.0</td>\n",
       "    </tr>\n",
       "    <tr>\n",
       "      <th>3</th>\n",
       "      <td>0.090</td>\n",
       "      <td>NaN</td>\n",
       "      <td>2263</td>\n",
       "      <td>Sinister</td>\n",
       "      <td>American Double / Imperial IPA</td>\n",
       "      <td>177</td>\n",
       "      <td>12.0</td>\n",
       "    </tr>\n",
       "    <tr>\n",
       "      <th>4</th>\n",
       "      <td>0.075</td>\n",
       "      <td>NaN</td>\n",
       "      <td>2262</td>\n",
       "      <td>Sex and Candy</td>\n",
       "      <td>American IPA</td>\n",
       "      <td>177</td>\n",
       "      <td>12.0</td>\n",
       "    </tr>\n",
       "  </tbody>\n",
       "</table>\n",
       "</div>"
      ],
      "text/plain": [
       "     abv  ibu    id                 name                           style  \\\n",
       "0  0.050  NaN  1436             Pub Beer             American Pale Lager   \n",
       "1  0.066  NaN  2265          Devil's Cup         American Pale Ale (APA)   \n",
       "2  0.071  NaN  2264  Rise of the Phoenix                    American IPA   \n",
       "3  0.090  NaN  2263             Sinister  American Double / Imperial IPA   \n",
       "4  0.075  NaN  2262        Sex and Candy                    American IPA   \n",
       "\n",
       "   brewery_id  ounces  \n",
       "0         408    12.0  \n",
       "1         177    12.0  \n",
       "2         177    12.0  \n",
       "3         177    12.0  \n",
       "4         177    12.0  "
      ]
     },
     "execution_count": 26,
     "metadata": {},
     "output_type": "execute_result"
    }
   ],
   "source": [
    "beers.head()"
   ]
  },
  {
   "cell_type": "code",
   "execution_count": 27,
   "metadata": {
    "collapsed": false
   },
   "outputs": [
    {
     "data": {
      "text/html": [
       "<div>\n",
       "<table border=\"1\" class=\"dataframe\">\n",
       "  <thead>\n",
       "    <tr style=\"text-align: right;\">\n",
       "      <th></th>\n",
       "      <th>name</th>\n",
       "      <th>city</th>\n",
       "      <th>state</th>\n",
       "    </tr>\n",
       "  </thead>\n",
       "  <tbody>\n",
       "    <tr>\n",
       "      <th>0</th>\n",
       "      <td>NorthGate Brewing</td>\n",
       "      <td>Minneapolis</td>\n",
       "      <td>MN</td>\n",
       "    </tr>\n",
       "    <tr>\n",
       "      <th>1</th>\n",
       "      <td>Against the Grain Brewery</td>\n",
       "      <td>Louisville</td>\n",
       "      <td>KY</td>\n",
       "    </tr>\n",
       "    <tr>\n",
       "      <th>2</th>\n",
       "      <td>Jack's Abby Craft Lagers</td>\n",
       "      <td>Framingham</td>\n",
       "      <td>MA</td>\n",
       "    </tr>\n",
       "    <tr>\n",
       "      <th>3</th>\n",
       "      <td>Mike Hess Brewing Company</td>\n",
       "      <td>San Diego</td>\n",
       "      <td>CA</td>\n",
       "    </tr>\n",
       "    <tr>\n",
       "      <th>4</th>\n",
       "      <td>Fort Point Beer Company</td>\n",
       "      <td>San Francisco</td>\n",
       "      <td>CA</td>\n",
       "    </tr>\n",
       "  </tbody>\n",
       "</table>\n",
       "</div>"
      ],
      "text/plain": [
       "                        name           city state\n",
       "0         NorthGate Brewing     Minneapolis    MN\n",
       "1  Against the Grain Brewery     Louisville    KY\n",
       "2   Jack's Abby Craft Lagers     Framingham    MA\n",
       "3  Mike Hess Brewing Company      San Diego    CA\n",
       "4    Fort Point Beer Company  San Francisco    CA"
      ]
     },
     "execution_count": 27,
     "metadata": {},
     "output_type": "execute_result"
    }
   ],
   "source": [
    "breweries.head()"
   ]
  },
  {
   "cell_type": "code",
   "execution_count": 28,
   "metadata": {
    "collapsed": false
   },
   "outputs": [],
   "source": [
    "beers_table = beers.join(breweries, on=\"brewery_id\", lsuffix = \"_beer\")"
   ]
  },
  {
   "cell_type": "code",
   "execution_count": 29,
   "metadata": {
    "collapsed": false
   },
   "outputs": [
    {
     "data": {
      "text/html": [
       "<div>\n",
       "<table border=\"1\" class=\"dataframe\">\n",
       "  <thead>\n",
       "    <tr style=\"text-align: right;\">\n",
       "      <th></th>\n",
       "      <th>abv</th>\n",
       "      <th>ibu</th>\n",
       "      <th>id</th>\n",
       "      <th>name_beer</th>\n",
       "      <th>style</th>\n",
       "      <th>brewery_id</th>\n",
       "      <th>ounces</th>\n",
       "      <th>name</th>\n",
       "      <th>city</th>\n",
       "      <th>state</th>\n",
       "    </tr>\n",
       "  </thead>\n",
       "  <tbody>\n",
       "    <tr>\n",
       "      <th>0</th>\n",
       "      <td>0.050</td>\n",
       "      <td>NaN</td>\n",
       "      <td>1436</td>\n",
       "      <td>Pub Beer</td>\n",
       "      <td>American Pale Lager</td>\n",
       "      <td>408</td>\n",
       "      <td>12.0</td>\n",
       "      <td>10 Barrel Brewing Company</td>\n",
       "      <td>Bend</td>\n",
       "      <td>OR</td>\n",
       "    </tr>\n",
       "    <tr>\n",
       "      <th>1</th>\n",
       "      <td>0.066</td>\n",
       "      <td>NaN</td>\n",
       "      <td>2265</td>\n",
       "      <td>Devil's Cup</td>\n",
       "      <td>American Pale Ale (APA)</td>\n",
       "      <td>177</td>\n",
       "      <td>12.0</td>\n",
       "      <td>18th Street Brewery</td>\n",
       "      <td>Gary</td>\n",
       "      <td>IN</td>\n",
       "    </tr>\n",
       "    <tr>\n",
       "      <th>2</th>\n",
       "      <td>0.071</td>\n",
       "      <td>NaN</td>\n",
       "      <td>2264</td>\n",
       "      <td>Rise of the Phoenix</td>\n",
       "      <td>American IPA</td>\n",
       "      <td>177</td>\n",
       "      <td>12.0</td>\n",
       "      <td>18th Street Brewery</td>\n",
       "      <td>Gary</td>\n",
       "      <td>IN</td>\n",
       "    </tr>\n",
       "    <tr>\n",
       "      <th>3</th>\n",
       "      <td>0.090</td>\n",
       "      <td>NaN</td>\n",
       "      <td>2263</td>\n",
       "      <td>Sinister</td>\n",
       "      <td>American Double / Imperial IPA</td>\n",
       "      <td>177</td>\n",
       "      <td>12.0</td>\n",
       "      <td>18th Street Brewery</td>\n",
       "      <td>Gary</td>\n",
       "      <td>IN</td>\n",
       "    </tr>\n",
       "    <tr>\n",
       "      <th>4</th>\n",
       "      <td>0.075</td>\n",
       "      <td>NaN</td>\n",
       "      <td>2262</td>\n",
       "      <td>Sex and Candy</td>\n",
       "      <td>American IPA</td>\n",
       "      <td>177</td>\n",
       "      <td>12.0</td>\n",
       "      <td>18th Street Brewery</td>\n",
       "      <td>Gary</td>\n",
       "      <td>IN</td>\n",
       "    </tr>\n",
       "  </tbody>\n",
       "</table>\n",
       "</div>"
      ],
      "text/plain": [
       "     abv  ibu    id            name_beer                           style  \\\n",
       "0  0.050  NaN  1436             Pub Beer             American Pale Lager   \n",
       "1  0.066  NaN  2265          Devil's Cup         American Pale Ale (APA)   \n",
       "2  0.071  NaN  2264  Rise of the Phoenix                    American IPA   \n",
       "3  0.090  NaN  2263             Sinister  American Double / Imperial IPA   \n",
       "4  0.075  NaN  2262        Sex and Candy                    American IPA   \n",
       "\n",
       "   brewery_id  ounces                       name  city state  \n",
       "0         408    12.0  10 Barrel Brewing Company  Bend    OR  \n",
       "1         177    12.0        18th Street Brewery  Gary    IN  \n",
       "2         177    12.0        18th Street Brewery  Gary    IN  \n",
       "3         177    12.0        18th Street Brewery  Gary    IN  \n",
       "4         177    12.0        18th Street Brewery  Gary    IN  "
      ]
     },
     "execution_count": 29,
     "metadata": {},
     "output_type": "execute_result"
    }
   ],
   "source": [
    "beers_table.head()"
   ]
  },
  {
   "cell_type": "code",
   "execution_count": 30,
   "metadata": {
    "collapsed": false,
    "scrolled": true
   },
   "outputs": [
    {
     "data": {
      "text/plain": [
       "(2009)         16\n",
       "light          16\n",
       "oktoberfest    16\n",
       "barrel         15\n",
       "(2014)         14\n",
       "island         14\n",
       "mountain       14\n",
       "kölsch         14\n",
       "pumpkin        14\n",
       "beach          14\n",
       "honey          14\n",
       "special        13\n",
       "dark           13\n",
       "&              13\n",
       "cream          13\n",
       "dtype: int64"
      ]
     },
     "execution_count": 30,
     "metadata": {},
     "output_type": "execute_result"
    }
   ],
   "source": [
    "#get the most common words from beer name\n",
    "pd.Series(' '.join(beers_table['name_beer']).lower().split()).value_counts()[45:60]"
   ]
  },
  {
   "cell_type": "code",
   "execution_count": 31,
   "metadata": {
    "collapsed": false,
    "scrolled": true
   },
   "outputs": [
    {
     "data": {
      "text/plain": [
       "array(['American Pale Lager', 'American Pale Ale (APA)', 'American IPA',\n",
       "       'American Double / Imperial IPA', 'Oatmeal Stout',\n",
       "       'American Porter', 'Saison / Farmhouse Ale', 'Belgian IPA', 'Cider',\n",
       "       'Baltic Porter', 'Tripel', 'American Barleywine', 'Winter Warmer',\n",
       "       'American Stout', 'Fruit / Vegetable Beer', 'English Strong Ale',\n",
       "       'American Black Ale', 'Belgian Dark Ale', 'American Blonde Ale',\n",
       "       'American Amber / Red Ale', 'Berliner Weissbier',\n",
       "       'American Brown Ale', 'American Pale Wheat Ale',\n",
       "       'Belgian Strong Dark Ale', 'K\\xc3\\xb6lsch', 'English Pale Ale',\n",
       "       'American Amber / Red Lager', 'English Barleywine',\n",
       "       'Milk / Sweet Stout', 'German Pilsener', 'Pumpkin Ale',\n",
       "       'Belgian Pale Ale', 'American Pilsner', 'American Wild Ale',\n",
       "       'English Brown Ale', 'Altbier', 'California Common / Steam Beer',\n",
       "       'Gose', 'Cream Ale', 'Vienna Lager', 'Witbier',\n",
       "       'American Double / Imperial Stout', 'Munich Helles Lager',\n",
       "       'Schwarzbier', 'M\\xc3\\xa4rzen / Oktoberfest',\n",
       "       'Extra Special / Strong Bitter (ESB)', 'Rye Beer',\n",
       "       'Euro Dark Lager', 'Hefeweizen', 'Foreign / Export Stout', 'Other',\n",
       "       'English India Pale Ale (IPA)', 'Czech Pilsener',\n",
       "       'American Strong Ale', 'Mead', 'Euro Pale Lager',\n",
       "       'American White IPA', 'Dortmunder / Export Lager',\n",
       "       'Irish Dry Stout', 'Scotch Ale / Wee Heavy', 'Munich Dunkel Lager',\n",
       "       'Radler', 'Bock', 'English Dark Mild Ale', 'Irish Red Ale',\n",
       "       'Rauchbier', 'Bi\\xc3\\xa8re de Garde', 'Doppelbock', 'Dunkelweizen',\n",
       "       'Belgian Strong Pale Ale', 'Dubbel', 'Quadrupel (Quad)',\n",
       "       'Russian Imperial Stout', 'English Pale Mild Ale',\n",
       "       'Maibock / Helles Bock', 'Herbed / Spiced Beer',\n",
       "       'American Adjunct Lager', 'Scottish Ale', nan, 'Smoked Beer',\n",
       "       'Light Lager', 'Abbey Single Ale', 'Roggenbier', 'Kristalweizen',\n",
       "       'American Dark Wheat Ale', 'English Stout', 'Old Ale',\n",
       "       'American Double / Imperial Pilsner', 'Flanders Red Ale',\n",
       "       'Keller Bier / Zwickel Bier', 'American India Pale Lager', 'Shandy',\n",
       "       'Wheat Ale', 'American Malt Liquor', 'English Bitter', 'Chile Beer',\n",
       "       'Grisette', 'Flanders Oud Bruin', 'Braggot', 'Low Alcohol Beer'], dtype=object)"
      ]
     },
     "execution_count": 31,
     "metadata": {},
     "output_type": "execute_result"
    }
   ],
   "source": [
    "#get all the styles to control for colinearity\n",
    "pd.Series.unique(beers_table['style'])"
   ]
  },
  {
   "cell_type": "code",
   "execution_count": 32,
   "metadata": {
    "collapsed": false
   },
   "outputs": [
    {
     "data": {
      "text/plain": [
       "100"
      ]
     },
     "execution_count": 32,
     "metadata": {},
     "output_type": "execute_result"
    }
   ],
   "source": [
    "len(pd.Series.unique(beers_table['style']))"
   ]
  },
  {
   "cell_type": "code",
   "execution_count": 33,
   "metadata": {
    "collapsed": true
   },
   "outputs": [],
   "source": [
    "#pick some non-trivial, non-1:1 words\n",
    "key_words = [\n",
    "    'Amber',\n",
    "    'Stout',\n",
    "    'Blonde',\n",
    "    'Wheat',\n",
    "    'Brown',\n",
    "    'Red',\n",
    "    'Hop',\n",
    "    'Summer',\n",
    "    'Black',\n",
    "    'White',\n",
    "    'American',\n",
    "    'Point',\n",
    "    'Session',\n",
    "    'Old',\n",
    "    'Big',\n",
    "    'Winter',\n",
    "    'Belgian',\n",
    "    'River',\n",
    "    'Saison',\n",
    "    \"Dale's\",\n",
    "    'Great',\n",
    "    'Light',\n",
    "    'Oktoberfest',\n",
    "    'Barrel',\n",
    "    'Island',\n",
    "    'Mountain'\n",
    "]"
   ]
  },
  {
   "cell_type": "code",
   "execution_count": 34,
   "metadata": {
    "collapsed": false
   },
   "outputs": [
    {
     "data": {
      "text/plain": [
       "2410"
      ]
     },
     "execution_count": 34,
     "metadata": {},
     "output_type": "execute_result"
    }
   ],
   "source": [
    "len(beers_table)"
   ]
  },
  {
   "cell_type": "code",
   "execution_count": 35,
   "metadata": {
    "collapsed": false
   },
   "outputs": [],
   "source": [
    "#create dummy variables\n",
    "df_styles = pd.get_dummies(beers_table['style'])\n",
    "df_state = pd.get_dummies(beers_table['state'])\n",
    "\n",
    "df_new = pd.concat([beers_table, df_styles, df_state], axis=1)"
   ]
  },
  {
   "cell_type": "code",
   "execution_count": 36,
   "metadata": {
    "collapsed": false
   },
   "outputs": [
    {
     "data": {
      "text/html": [
       "<div>\n",
       "<table border=\"1\" class=\"dataframe\">\n",
       "  <thead>\n",
       "    <tr style=\"text-align: right;\">\n",
       "      <th></th>\n",
       "      <th>abv</th>\n",
       "      <th>ibu</th>\n",
       "      <th>id</th>\n",
       "      <th>name_beer</th>\n",
       "      <th>style</th>\n",
       "      <th>brewery_id</th>\n",
       "      <th>ounces</th>\n",
       "      <th>name</th>\n",
       "      <th>city</th>\n",
       "      <th>state</th>\n",
       "      <th>...</th>\n",
       "      <th>SD</th>\n",
       "      <th>TN</th>\n",
       "      <th>TX</th>\n",
       "      <th>UT</th>\n",
       "      <th>VA</th>\n",
       "      <th>VT</th>\n",
       "      <th>WA</th>\n",
       "      <th>WI</th>\n",
       "      <th>WV</th>\n",
       "      <th>WY</th>\n",
       "    </tr>\n",
       "  </thead>\n",
       "  <tbody>\n",
       "    <tr>\n",
       "      <th>0</th>\n",
       "      <td>0.050</td>\n",
       "      <td>NaN</td>\n",
       "      <td>1436</td>\n",
       "      <td>Pub Beer</td>\n",
       "      <td>American Pale Lager</td>\n",
       "      <td>408</td>\n",
       "      <td>12.0</td>\n",
       "      <td>10 Barrel Brewing Company</td>\n",
       "      <td>Bend</td>\n",
       "      <td>OR</td>\n",
       "      <td>...</td>\n",
       "      <td>0.0</td>\n",
       "      <td>0.0</td>\n",
       "      <td>0.0</td>\n",
       "      <td>0.0</td>\n",
       "      <td>0.0</td>\n",
       "      <td>0.0</td>\n",
       "      <td>0.0</td>\n",
       "      <td>0.0</td>\n",
       "      <td>0.0</td>\n",
       "      <td>0.0</td>\n",
       "    </tr>\n",
       "    <tr>\n",
       "      <th>1</th>\n",
       "      <td>0.066</td>\n",
       "      <td>NaN</td>\n",
       "      <td>2265</td>\n",
       "      <td>Devil's Cup</td>\n",
       "      <td>American Pale Ale (APA)</td>\n",
       "      <td>177</td>\n",
       "      <td>12.0</td>\n",
       "      <td>18th Street Brewery</td>\n",
       "      <td>Gary</td>\n",
       "      <td>IN</td>\n",
       "      <td>...</td>\n",
       "      <td>0.0</td>\n",
       "      <td>0.0</td>\n",
       "      <td>0.0</td>\n",
       "      <td>0.0</td>\n",
       "      <td>0.0</td>\n",
       "      <td>0.0</td>\n",
       "      <td>0.0</td>\n",
       "      <td>0.0</td>\n",
       "      <td>0.0</td>\n",
       "      <td>0.0</td>\n",
       "    </tr>\n",
       "    <tr>\n",
       "      <th>2</th>\n",
       "      <td>0.071</td>\n",
       "      <td>NaN</td>\n",
       "      <td>2264</td>\n",
       "      <td>Rise of the Phoenix</td>\n",
       "      <td>American IPA</td>\n",
       "      <td>177</td>\n",
       "      <td>12.0</td>\n",
       "      <td>18th Street Brewery</td>\n",
       "      <td>Gary</td>\n",
       "      <td>IN</td>\n",
       "      <td>...</td>\n",
       "      <td>0.0</td>\n",
       "      <td>0.0</td>\n",
       "      <td>0.0</td>\n",
       "      <td>0.0</td>\n",
       "      <td>0.0</td>\n",
       "      <td>0.0</td>\n",
       "      <td>0.0</td>\n",
       "      <td>0.0</td>\n",
       "      <td>0.0</td>\n",
       "      <td>0.0</td>\n",
       "    </tr>\n",
       "    <tr>\n",
       "      <th>3</th>\n",
       "      <td>0.090</td>\n",
       "      <td>NaN</td>\n",
       "      <td>2263</td>\n",
       "      <td>Sinister</td>\n",
       "      <td>American Double / Imperial IPA</td>\n",
       "      <td>177</td>\n",
       "      <td>12.0</td>\n",
       "      <td>18th Street Brewery</td>\n",
       "      <td>Gary</td>\n",
       "      <td>IN</td>\n",
       "      <td>...</td>\n",
       "      <td>0.0</td>\n",
       "      <td>0.0</td>\n",
       "      <td>0.0</td>\n",
       "      <td>0.0</td>\n",
       "      <td>0.0</td>\n",
       "      <td>0.0</td>\n",
       "      <td>0.0</td>\n",
       "      <td>0.0</td>\n",
       "      <td>0.0</td>\n",
       "      <td>0.0</td>\n",
       "    </tr>\n",
       "    <tr>\n",
       "      <th>4</th>\n",
       "      <td>0.075</td>\n",
       "      <td>NaN</td>\n",
       "      <td>2262</td>\n",
       "      <td>Sex and Candy</td>\n",
       "      <td>American IPA</td>\n",
       "      <td>177</td>\n",
       "      <td>12.0</td>\n",
       "      <td>18th Street Brewery</td>\n",
       "      <td>Gary</td>\n",
       "      <td>IN</td>\n",
       "      <td>...</td>\n",
       "      <td>0.0</td>\n",
       "      <td>0.0</td>\n",
       "      <td>0.0</td>\n",
       "      <td>0.0</td>\n",
       "      <td>0.0</td>\n",
       "      <td>0.0</td>\n",
       "      <td>0.0</td>\n",
       "      <td>0.0</td>\n",
       "      <td>0.0</td>\n",
       "      <td>0.0</td>\n",
       "    </tr>\n",
       "  </tbody>\n",
       "</table>\n",
       "<p>5 rows × 160 columns</p>\n",
       "</div>"
      ],
      "text/plain": [
       "     abv  ibu    id            name_beer                           style  \\\n",
       "0  0.050  NaN  1436             Pub Beer             American Pale Lager   \n",
       "1  0.066  NaN  2265          Devil's Cup         American Pale Ale (APA)   \n",
       "2  0.071  NaN  2264  Rise of the Phoenix                    American IPA   \n",
       "3  0.090  NaN  2263             Sinister  American Double / Imperial IPA   \n",
       "4  0.075  NaN  2262        Sex and Candy                    American IPA   \n",
       "\n",
       "   brewery_id  ounces                       name  city state ...    SD   TN  \\\n",
       "0         408    12.0  10 Barrel Brewing Company  Bend    OR ...   0.0  0.0   \n",
       "1         177    12.0        18th Street Brewery  Gary    IN ...   0.0  0.0   \n",
       "2         177    12.0        18th Street Brewery  Gary    IN ...   0.0  0.0   \n",
       "3         177    12.0        18th Street Brewery  Gary    IN ...   0.0  0.0   \n",
       "4         177    12.0        18th Street Brewery  Gary    IN ...   0.0  0.0   \n",
       "\n",
       "    TX   UT   VA   VT   WA   WI   WV   WY  \n",
       "0  0.0  0.0  0.0  0.0  0.0  0.0  0.0  0.0  \n",
       "1  0.0  0.0  0.0  0.0  0.0  0.0  0.0  0.0  \n",
       "2  0.0  0.0  0.0  0.0  0.0  0.0  0.0  0.0  \n",
       "3  0.0  0.0  0.0  0.0  0.0  0.0  0.0  0.0  \n",
       "4  0.0  0.0  0.0  0.0  0.0  0.0  0.0  0.0  \n",
       "\n",
       "[5 rows x 160 columns]"
      ]
     },
     "execution_count": 36,
     "metadata": {},
     "output_type": "execute_result"
    }
   ],
   "source": [
    "df_new.head()"
   ]
  },
  {
   "cell_type": "code",
   "execution_count": 37,
   "metadata": {
    "collapsed": false
   },
   "outputs": [],
   "source": [
    "#create dummy variables for beer key words\n",
    "def kwTest(kw):\n",
    "    def kwCondition(row):\n",
    "        if kw in row['name_beer']:\n",
    "            val = 1\n",
    "        else:\n",
    "            val = 0\n",
    "        return val\n",
    "    return kwCondition\n",
    "\n",
    "for word in key_words:\n",
    "    df_new[\"keyword_\" + word] = df_new.apply(kwTest(word), axis=1)"
   ]
  },
  {
   "cell_type": "code",
   "execution_count": 38,
   "metadata": {
    "collapsed": false
   },
   "outputs": [
    {
     "data": {
      "text/html": [
       "<div>\n",
       "<table border=\"1\" class=\"dataframe\">\n",
       "  <thead>\n",
       "    <tr style=\"text-align: right;\">\n",
       "      <th></th>\n",
       "      <th>abv</th>\n",
       "      <th>ibu</th>\n",
       "      <th>id</th>\n",
       "      <th>name_beer</th>\n",
       "      <th>style</th>\n",
       "      <th>brewery_id</th>\n",
       "      <th>ounces</th>\n",
       "      <th>name</th>\n",
       "      <th>city</th>\n",
       "      <th>state</th>\n",
       "      <th>...</th>\n",
       "      <th>keyword_Belgian</th>\n",
       "      <th>keyword_River</th>\n",
       "      <th>keyword_Saison</th>\n",
       "      <th>keyword_Dale's</th>\n",
       "      <th>keyword_Great</th>\n",
       "      <th>keyword_Light</th>\n",
       "      <th>keyword_Oktoberfest</th>\n",
       "      <th>keyword_Barrel</th>\n",
       "      <th>keyword_Island</th>\n",
       "      <th>keyword_Mountain</th>\n",
       "    </tr>\n",
       "  </thead>\n",
       "  <tbody>\n",
       "    <tr>\n",
       "      <th>0</th>\n",
       "      <td>0.050</td>\n",
       "      <td>NaN</td>\n",
       "      <td>1436</td>\n",
       "      <td>Pub Beer</td>\n",
       "      <td>American Pale Lager</td>\n",
       "      <td>408</td>\n",
       "      <td>12.0</td>\n",
       "      <td>10 Barrel Brewing Company</td>\n",
       "      <td>Bend</td>\n",
       "      <td>OR</td>\n",
       "      <td>...</td>\n",
       "      <td>0</td>\n",
       "      <td>0</td>\n",
       "      <td>0</td>\n",
       "      <td>0</td>\n",
       "      <td>0</td>\n",
       "      <td>0</td>\n",
       "      <td>0</td>\n",
       "      <td>0</td>\n",
       "      <td>0</td>\n",
       "      <td>0</td>\n",
       "    </tr>\n",
       "    <tr>\n",
       "      <th>1</th>\n",
       "      <td>0.066</td>\n",
       "      <td>NaN</td>\n",
       "      <td>2265</td>\n",
       "      <td>Devil's Cup</td>\n",
       "      <td>American Pale Ale (APA)</td>\n",
       "      <td>177</td>\n",
       "      <td>12.0</td>\n",
       "      <td>18th Street Brewery</td>\n",
       "      <td>Gary</td>\n",
       "      <td>IN</td>\n",
       "      <td>...</td>\n",
       "      <td>0</td>\n",
       "      <td>0</td>\n",
       "      <td>0</td>\n",
       "      <td>0</td>\n",
       "      <td>0</td>\n",
       "      <td>0</td>\n",
       "      <td>0</td>\n",
       "      <td>0</td>\n",
       "      <td>0</td>\n",
       "      <td>0</td>\n",
       "    </tr>\n",
       "    <tr>\n",
       "      <th>2</th>\n",
       "      <td>0.071</td>\n",
       "      <td>NaN</td>\n",
       "      <td>2264</td>\n",
       "      <td>Rise of the Phoenix</td>\n",
       "      <td>American IPA</td>\n",
       "      <td>177</td>\n",
       "      <td>12.0</td>\n",
       "      <td>18th Street Brewery</td>\n",
       "      <td>Gary</td>\n",
       "      <td>IN</td>\n",
       "      <td>...</td>\n",
       "      <td>0</td>\n",
       "      <td>0</td>\n",
       "      <td>0</td>\n",
       "      <td>0</td>\n",
       "      <td>0</td>\n",
       "      <td>0</td>\n",
       "      <td>0</td>\n",
       "      <td>0</td>\n",
       "      <td>0</td>\n",
       "      <td>0</td>\n",
       "    </tr>\n",
       "    <tr>\n",
       "      <th>3</th>\n",
       "      <td>0.090</td>\n",
       "      <td>NaN</td>\n",
       "      <td>2263</td>\n",
       "      <td>Sinister</td>\n",
       "      <td>American Double / Imperial IPA</td>\n",
       "      <td>177</td>\n",
       "      <td>12.0</td>\n",
       "      <td>18th Street Brewery</td>\n",
       "      <td>Gary</td>\n",
       "      <td>IN</td>\n",
       "      <td>...</td>\n",
       "      <td>0</td>\n",
       "      <td>0</td>\n",
       "      <td>0</td>\n",
       "      <td>0</td>\n",
       "      <td>0</td>\n",
       "      <td>0</td>\n",
       "      <td>0</td>\n",
       "      <td>0</td>\n",
       "      <td>0</td>\n",
       "      <td>0</td>\n",
       "    </tr>\n",
       "    <tr>\n",
       "      <th>4</th>\n",
       "      <td>0.075</td>\n",
       "      <td>NaN</td>\n",
       "      <td>2262</td>\n",
       "      <td>Sex and Candy</td>\n",
       "      <td>American IPA</td>\n",
       "      <td>177</td>\n",
       "      <td>12.0</td>\n",
       "      <td>18th Street Brewery</td>\n",
       "      <td>Gary</td>\n",
       "      <td>IN</td>\n",
       "      <td>...</td>\n",
       "      <td>0</td>\n",
       "      <td>0</td>\n",
       "      <td>0</td>\n",
       "      <td>0</td>\n",
       "      <td>0</td>\n",
       "      <td>0</td>\n",
       "      <td>0</td>\n",
       "      <td>0</td>\n",
       "      <td>0</td>\n",
       "      <td>0</td>\n",
       "    </tr>\n",
       "  </tbody>\n",
       "</table>\n",
       "<p>5 rows × 186 columns</p>\n",
       "</div>"
      ],
      "text/plain": [
       "     abv  ibu    id            name_beer                           style  \\\n",
       "0  0.050  NaN  1436             Pub Beer             American Pale Lager   \n",
       "1  0.066  NaN  2265          Devil's Cup         American Pale Ale (APA)   \n",
       "2  0.071  NaN  2264  Rise of the Phoenix                    American IPA   \n",
       "3  0.090  NaN  2263             Sinister  American Double / Imperial IPA   \n",
       "4  0.075  NaN  2262        Sex and Candy                    American IPA   \n",
       "\n",
       "   brewery_id  ounces                       name  city state  \\\n",
       "0         408    12.0  10 Barrel Brewing Company  Bend    OR   \n",
       "1         177    12.0        18th Street Brewery  Gary    IN   \n",
       "2         177    12.0        18th Street Brewery  Gary    IN   \n",
       "3         177    12.0        18th Street Brewery  Gary    IN   \n",
       "4         177    12.0        18th Street Brewery  Gary    IN   \n",
       "\n",
       "         ...         keyword_Belgian  keyword_River  keyword_Saison  \\\n",
       "0        ...                       0              0               0   \n",
       "1        ...                       0              0               0   \n",
       "2        ...                       0              0               0   \n",
       "3        ...                       0              0               0   \n",
       "4        ...                       0              0               0   \n",
       "\n",
       "   keyword_Dale's  keyword_Great  keyword_Light  keyword_Oktoberfest  \\\n",
       "0               0              0              0                    0   \n",
       "1               0              0              0                    0   \n",
       "2               0              0              0                    0   \n",
       "3               0              0              0                    0   \n",
       "4               0              0              0                    0   \n",
       "\n",
       "   keyword_Barrel  keyword_Island  keyword_Mountain  \n",
       "0               0               0                 0  \n",
       "1               0               0                 0  \n",
       "2               0               0                 0  \n",
       "3               0               0                 0  \n",
       "4               0               0                 0  \n",
       "\n",
       "[5 rows x 186 columns]"
      ]
     },
     "execution_count": 38,
     "metadata": {},
     "output_type": "execute_result"
    }
   ],
   "source": [
    "df_new.head()"
   ]
  },
  {
   "cell_type": "code",
   "execution_count": 158,
   "metadata": {
    "collapsed": false,
    "scrolled": true
   },
   "outputs": [
    {
     "data": {
      "text/html": [
       "<div>\n",
       "<table border=\"1\" class=\"dataframe\">\n",
       "  <thead>\n",
       "    <tr style=\"text-align: right;\">\n",
       "      <th></th>\n",
       "      <th>abv</th>\n",
       "      <th>ibu</th>\n",
       "      <th>id</th>\n",
       "      <th>name_beer</th>\n",
       "      <th>style</th>\n",
       "      <th>brewery_id</th>\n",
       "      <th>ounces</th>\n",
       "      <th>name</th>\n",
       "      <th>city</th>\n",
       "      <th>state</th>\n",
       "      <th>...</th>\n",
       "      <th>keyword_Belgian</th>\n",
       "      <th>keyword_River</th>\n",
       "      <th>keyword_Saison</th>\n",
       "      <th>keyword_Dale's</th>\n",
       "      <th>keyword_Great</th>\n",
       "      <th>keyword_Light</th>\n",
       "      <th>keyword_Oktoberfest</th>\n",
       "      <th>keyword_Barrel</th>\n",
       "      <th>keyword_Island</th>\n",
       "      <th>keyword_Mountain</th>\n",
       "    </tr>\n",
       "  </thead>\n",
       "  <tbody>\n",
       "    <tr>\n",
       "      <th>285</th>\n",
       "      <td>0.046</td>\n",
       "      <td>20.0</td>\n",
       "      <td>2484</td>\n",
       "      <td>Bomber Mountain Amber Ale</td>\n",
       "      <td>American Amber / Red Ale</td>\n",
       "      <td>79</td>\n",
       "      <td>12.0</td>\n",
       "      <td>Black Tooth Brewing Company</td>\n",
       "      <td>Sheridan</td>\n",
       "      <td>WY</td>\n",
       "      <td>...</td>\n",
       "      <td>0</td>\n",
       "      <td>0</td>\n",
       "      <td>0</td>\n",
       "      <td>0</td>\n",
       "      <td>0</td>\n",
       "      <td>0</td>\n",
       "      <td>0</td>\n",
       "      <td>0</td>\n",
       "      <td>0</td>\n",
       "      <td>1</td>\n",
       "    </tr>\n",
       "    <tr>\n",
       "      <th>312</th>\n",
       "      <td>0.053</td>\n",
       "      <td>22.0</td>\n",
       "      <td>1545</td>\n",
       "      <td>Blue Mountain Classic Lager</td>\n",
       "      <td>Euro Pale Lager</td>\n",
       "      <td>382</td>\n",
       "      <td>12.0</td>\n",
       "      <td>Blue Mountain Brewery</td>\n",
       "      <td>Afton</td>\n",
       "      <td>VA</td>\n",
       "      <td>...</td>\n",
       "      <td>0</td>\n",
       "      <td>0</td>\n",
       "      <td>0</td>\n",
       "      <td>0</td>\n",
       "      <td>0</td>\n",
       "      <td>0</td>\n",
       "      <td>0</td>\n",
       "      <td>0</td>\n",
       "      <td>0</td>\n",
       "      <td>1</td>\n",
       "    </tr>\n",
       "    <tr>\n",
       "      <th>659</th>\n",
       "      <td>0.052</td>\n",
       "      <td>25.0</td>\n",
       "      <td>356</td>\n",
       "      <td>Crazy Mountain Amber Ale</td>\n",
       "      <td>American Amber / Red Ale</td>\n",
       "      <td>63</td>\n",
       "      <td>12.0</td>\n",
       "      <td>Crazy Mountain Brewing Company</td>\n",
       "      <td>Edwards</td>\n",
       "      <td>CO</td>\n",
       "      <td>...</td>\n",
       "      <td>0</td>\n",
       "      <td>0</td>\n",
       "      <td>0</td>\n",
       "      <td>0</td>\n",
       "      <td>0</td>\n",
       "      <td>0</td>\n",
       "      <td>0</td>\n",
       "      <td>0</td>\n",
       "      <td>0</td>\n",
       "      <td>1</td>\n",
       "    </tr>\n",
       "    <tr>\n",
       "      <th>913</th>\n",
       "      <td>0.055</td>\n",
       "      <td>40.0</td>\n",
       "      <td>2205</td>\n",
       "      <td>Mountain Rescue Pale Ale</td>\n",
       "      <td>American Pale Ale (APA)</td>\n",
       "      <td>194</td>\n",
       "      <td>12.0</td>\n",
       "      <td>Goodlife Brewing Co.</td>\n",
       "      <td>Bend</td>\n",
       "      <td>OR</td>\n",
       "      <td>...</td>\n",
       "      <td>0</td>\n",
       "      <td>0</td>\n",
       "      <td>0</td>\n",
       "      <td>0</td>\n",
       "      <td>0</td>\n",
       "      <td>0</td>\n",
       "      <td>0</td>\n",
       "      <td>0</td>\n",
       "      <td>0</td>\n",
       "      <td>1</td>\n",
       "    </tr>\n",
       "    <tr>\n",
       "      <th>2146</th>\n",
       "      <td>0.046</td>\n",
       "      <td>20.0</td>\n",
       "      <td>1200</td>\n",
       "      <td>Bomber Mountain Amber Ale (2013)</td>\n",
       "      <td>American Amber / Red Ale</td>\n",
       "      <td>457</td>\n",
       "      <td>12.0</td>\n",
       "      <td>The Black Tooth Brewing Company</td>\n",
       "      <td>Sheridan</td>\n",
       "      <td>WY</td>\n",
       "      <td>...</td>\n",
       "      <td>0</td>\n",
       "      <td>0</td>\n",
       "      <td>0</td>\n",
       "      <td>0</td>\n",
       "      <td>0</td>\n",
       "      <td>0</td>\n",
       "      <td>0</td>\n",
       "      <td>0</td>\n",
       "      <td>0</td>\n",
       "      <td>1</td>\n",
       "    </tr>\n",
       "  </tbody>\n",
       "</table>\n",
       "<p>5 rows × 186 columns</p>\n",
       "</div>"
      ],
      "text/plain": [
       "        abv   ibu    id                         name_beer  \\\n",
       "285   0.046  20.0  2484         Bomber Mountain Amber Ale   \n",
       "312   0.053  22.0  1545       Blue Mountain Classic Lager   \n",
       "659   0.052  25.0   356          Crazy Mountain Amber Ale   \n",
       "913   0.055  40.0  2205          Mountain Rescue Pale Ale   \n",
       "2146  0.046  20.0  1200  Bomber Mountain Amber Ale (2013)   \n",
       "\n",
       "                         style  brewery_id  ounces  \\\n",
       "285   American Amber / Red Ale          79    12.0   \n",
       "312            Euro Pale Lager         382    12.0   \n",
       "659   American Amber / Red Ale          63    12.0   \n",
       "913    American Pale Ale (APA)         194    12.0   \n",
       "2146  American Amber / Red Ale         457    12.0   \n",
       "\n",
       "                                 name      city state        ...         \\\n",
       "285       Black Tooth Brewing Company  Sheridan    WY        ...          \n",
       "312             Blue Mountain Brewery     Afton    VA        ...          \n",
       "659    Crazy Mountain Brewing Company   Edwards    CO        ...          \n",
       "913              Goodlife Brewing Co.      Bend    OR        ...          \n",
       "2146  The Black Tooth Brewing Company  Sheridan    WY        ...          \n",
       "\n",
       "      keyword_Belgian  keyword_River  keyword_Saison  keyword_Dale's  \\\n",
       "285                 0              0               0               0   \n",
       "312                 0              0               0               0   \n",
       "659                 0              0               0               0   \n",
       "913                 0              0               0               0   \n",
       "2146                0              0               0               0   \n",
       "\n",
       "      keyword_Great  keyword_Light  keyword_Oktoberfest  keyword_Barrel  \\\n",
       "285               0              0                    0               0   \n",
       "312               0              0                    0               0   \n",
       "659               0              0                    0               0   \n",
       "913               0              0                    0               0   \n",
       "2146              0              0                    0               0   \n",
       "\n",
       "      keyword_Island  keyword_Mountain  \n",
       "285                0                 1  \n",
       "312                0                 1  \n",
       "659                0                 1  \n",
       "913                0                 1  \n",
       "2146               0                 1  \n",
       "\n",
       "[5 rows x 186 columns]"
      ]
     },
     "execution_count": 158,
     "metadata": {},
     "output_type": "execute_result"
    }
   ],
   "source": [
    "#test keyword assignments\n",
    "kwTest = df_new[\"keyword_Mountain\"] == 1\n",
    "df_new[kwTest].head()"
   ]
  },
  {
   "cell_type": "code",
   "execution_count": 52,
   "metadata": {
    "collapsed": false
   },
   "outputs": [],
   "source": [
    "#more data cleaning\n",
    "\n",
    "#just ibu >= 0\n",
    "df_new = df_new[df_new['ibu'] >= 0]\n",
    "#need abv\n",
    "df = df_new[df_new.abv >= 0]\n",
    "#make index column\n",
    "#df.reset_index(level=0, inplace=True)"
   ]
  },
  {
   "cell_type": "code",
   "execution_count": 58,
   "metadata": {
    "collapsed": true
   },
   "outputs": [],
   "source": [
    "df.reset_index(level=0, inplace=True)"
   ]
  },
  {
   "cell_type": "code",
   "execution_count": 56,
   "metadata": {
    "collapsed": false
   },
   "outputs": [
    {
     "data": {
      "text/plain": [
       "1405"
      ]
     },
     "execution_count": 56,
     "metadata": {},
     "output_type": "execute_result"
    }
   ],
   "source": [
    "len(df)"
   ]
  },
  {
   "cell_type": "code",
   "execution_count": 172,
   "metadata": {
    "collapsed": false
   },
   "outputs": [
    {
     "name": "stdout",
     "output_type": "stream",
     "text": [
      "[805, 280, 837, 679, 11, 636, 908, 49, 491, 720]\n",
      "[783, 887, 782, 771, 731, 197, 263, 405, 696, 186]\n"
     ]
    }
   ],
   "source": [
    "#define profile\n",
    "likes = []\n",
    "dislikes = []\n",
    "\n",
    "#randomly generated example\n",
    "i = 0\n",
    "while i < 10:\n",
    "    new_number = randint(0,1000)\n",
    "    if new_number in likes:\n",
    "        continue\n",
    "    else:\n",
    "        likes.append(new_number)\n",
    "        i += 1\n",
    "print likes\n",
    "i = 0\n",
    "while i < 10:\n",
    "    new_number = randint(0,1000)\n",
    "    if new_number in likes:\n",
    "        continue\n",
    "    if new_number in dislikes:\n",
    "        continue\n",
    "    else:\n",
    "        dislikes.append(new_number)\n",
    "        i += 1\n",
    "print dislikes\n",
    "\n",
    "profile = (likes,dislikes)"
   ]
  },
  {
   "cell_type": "code",
   "execution_count": 173,
   "metadata": {
    "collapsed": false
   },
   "outputs": [],
   "source": [
    "#organize training data and test data\n",
    "training_data = df.copy()\n",
    "test_data = df.copy()\n",
    "def likeTest(a,b):\n",
    "    def likeCondition(row):\n",
    "        if row['level_0'] in a:\n",
    "            #likes get a 1\n",
    "            #print row['index']\n",
    "            val = 1\n",
    "        elif row['level_0'] in b:\n",
    "            #dislikes get a 0\n",
    "            val = 0\n",
    "        else:\n",
    "            val = None\n",
    "        return val\n",
    "    return likeCondition\n",
    "training_data[\"like\"] = training_data.apply(likeTest(likes,dislikes), axis=1)\n",
    "test_data[\"like\"] = test_data.apply(likeTest(likes,dislikes), axis=1)\n",
    "\n",
    "\n",
    "# test condition in brackets to separate into training and test data\n",
    "training_data = training_data[~training_data['like'].isnull()]\n",
    "test_data = test_data[test_data['like'].isnull()]\n",
    "\n",
    "\n",
    "#df = df[~df['data'].isnull()]"
   ]
  },
  {
   "cell_type": "code",
   "execution_count": 174,
   "metadata": {
    "collapsed": false
   },
   "outputs": [
    {
     "name": "stdout",
     "output_type": "stream",
     "text": [
      "10  should be 10\n",
      "10  should be 10\n",
      "20 should be 20\n",
      "10 should be 10\n",
      "10 should be 10\n"
     ]
    }
   ],
   "source": [
    "#validating training data vs. test data\n",
    "\n",
    "print len(likes), \" should be 10\"\n",
    "print len(dislikes), \" should be 10\"\n",
    "print len(training_data), \"should be 20\"\n",
    "print len(training_data[training_data[\"like\"] == 1]), \"should be 10\"\n",
    "print len(training_data[training_data[\"like\"] == 0]), \"should be 10\""
   ]
  },
  {
   "cell_type": "code",
   "execution_count": 175,
   "metadata": {
    "collapsed": false
   },
   "outputs": [
    {
     "data": {
      "text/plain": [
       "True"
      ]
     },
     "execution_count": 175,
     "metadata": {},
     "output_type": "execute_result"
    }
   ],
   "source": [
    "len(training_data) + len(test_data) == len(df)"
   ]
  },
  {
   "cell_type": "code",
   "execution_count": 176,
   "metadata": {
    "collapsed": true
   },
   "outputs": [],
   "source": [
    "del training_data['index']\n",
    "del test_data['index']"
   ]
  },
  {
   "cell_type": "code",
   "execution_count": 177,
   "metadata": {
    "collapsed": false
   },
   "outputs": [
    {
     "data": {
      "text/plain": [
       "MultinomialNB(alpha=1.0, class_prior=None, fit_prior=True)"
      ]
     },
     "execution_count": 177,
     "metadata": {},
     "output_type": "execute_result"
    }
   ],
   "source": [
    "#run classifier\n",
    "x = training_data[[1,2] + range(11,187)].as_matrix()\n",
    "y = training_data[\"like\"].values\n",
    "clf = MultinomialNB()\n",
    "clf.fit(x, y)"
   ]
  },
  {
   "cell_type": "code",
   "execution_count": 178,
   "metadata": {
    "collapsed": false
   },
   "outputs": [],
   "source": [
    "score = []\n",
    "\n",
    "test_data.iterrows()\n",
    "\n",
    "for index, row in test_data.iterrows():\n",
    "    numbers = []\n",
    "    for column_index in [1,2] + range(11,187):\n",
    "        numbers.append(row[column_index])\n",
    "    score.append(clf.predict_proba([numbers]))"
   ]
  },
  {
   "cell_type": "code",
   "execution_count": 179,
   "metadata": {
    "collapsed": false
   },
   "outputs": [],
   "source": [
    "score_list = []\n",
    "\n",
    "for w in score:\n",
    "    score_list.append(w.tolist()[0][0])"
   ]
  },
  {
   "cell_type": "code",
   "execution_count": 180,
   "metadata": {
    "collapsed": false
   },
   "outputs": [
    {
     "data": {
      "text/plain": [
       "0.8320453535875383"
      ]
     },
     "execution_count": 180,
     "metadata": {},
     "output_type": "execute_result"
    }
   ],
   "source": [
    "#average score\n",
    "sum(score_list)/len(score_list)"
   ]
  },
  {
   "cell_type": "code",
   "execution_count": 181,
   "metadata": {
    "collapsed": true
   },
   "outputs": [],
   "source": [
    "test_data['score'] = score_list"
   ]
  },
  {
   "cell_type": "code",
   "execution_count": 182,
   "metadata": {
    "collapsed": false
   },
   "outputs": [
    {
     "data": {
      "text/html": [
       "<div>\n",
       "<table border=\"1\" class=\"dataframe\">\n",
       "  <thead>\n",
       "    <tr style=\"text-align: right;\">\n",
       "      <th></th>\n",
       "      <th>name_beer</th>\n",
       "      <th>style</th>\n",
       "      <th>name</th>\n",
       "      <th>score</th>\n",
       "    </tr>\n",
       "  </thead>\n",
       "  <tbody>\n",
       "    <tr>\n",
       "      <th>88</th>\n",
       "      <td>Bitter Bitch Imperial IPA</td>\n",
       "      <td>American Double / Imperial IPA</td>\n",
       "      <td>Astoria Brewing Company</td>\n",
       "      <td>0.999865</td>\n",
       "    </tr>\n",
       "    <tr>\n",
       "      <th>784</th>\n",
       "      <td>Blazing World</td>\n",
       "      <td>American Amber / Red Ale</td>\n",
       "      <td>Modern Times Beer</td>\n",
       "      <td>0.999755</td>\n",
       "    </tr>\n",
       "    <tr>\n",
       "      <th>1253</th>\n",
       "      <td>Heady Topper</td>\n",
       "      <td>American Double / Imperial IPA</td>\n",
       "      <td>The Alchemist</td>\n",
       "      <td>0.999729</td>\n",
       "    </tr>\n",
       "    <tr>\n",
       "      <th>1254</th>\n",
       "      <td>Heady Topper</td>\n",
       "      <td>American Double / Imperial IPA</td>\n",
       "      <td>The Alchemist</td>\n",
       "      <td>0.999729</td>\n",
       "    </tr>\n",
       "    <tr>\n",
       "      <th>1123</th>\n",
       "      <td>Red Cockaded Ale (2013)</td>\n",
       "      <td>American Double / Imperial IPA</td>\n",
       "      <td>Southern Star Brewing Company</td>\n",
       "      <td>0.999577</td>\n",
       "    </tr>\n",
       "    <tr>\n",
       "      <th>1121</th>\n",
       "      <td>Red Cockaded Ale</td>\n",
       "      <td>American Double / Imperial IPA</td>\n",
       "      <td>Southern Star Brewing Company</td>\n",
       "      <td>0.999577</td>\n",
       "    </tr>\n",
       "    <tr>\n",
       "      <th>242</th>\n",
       "      <td>More Cowbell</td>\n",
       "      <td>American Double / Imperial IPA</td>\n",
       "      <td>Buffalo Bayou Brewing Company</td>\n",
       "      <td>0.999540</td>\n",
       "    </tr>\n",
       "    <tr>\n",
       "      <th>310</th>\n",
       "      <td>Bay of Bengal Double IPA (2014)</td>\n",
       "      <td>American Double / Imperial IPA</td>\n",
       "      <td>Christian Moerlein Brewing Company</td>\n",
       "      <td>0.999437</td>\n",
       "    </tr>\n",
       "    <tr>\n",
       "      <th>1393</th>\n",
       "      <td>Troopers Alley IPA</td>\n",
       "      <td>American IPA</td>\n",
       "      <td>Wolf Hills Brewing Company</td>\n",
       "      <td>0.999355</td>\n",
       "    </tr>\n",
       "    <tr>\n",
       "      <th>269</th>\n",
       "      <td>Dead-Eye DIPA</td>\n",
       "      <td>American Double / Imperial IPA</td>\n",
       "      <td>Cape Ann Brewing Company</td>\n",
       "      <td>0.999120</td>\n",
       "    </tr>\n",
       "  </tbody>\n",
       "</table>\n",
       "</div>"
      ],
      "text/plain": [
       "                            name_beer                           style  \\\n",
       "88          Bitter Bitch Imperial IPA  American Double / Imperial IPA   \n",
       "784                     Blazing World        American Amber / Red Ale   \n",
       "1253                     Heady Topper  American Double / Imperial IPA   \n",
       "1254                     Heady Topper  American Double / Imperial IPA   \n",
       "1123          Red Cockaded Ale (2013)  American Double / Imperial IPA   \n",
       "1121                 Red Cockaded Ale  American Double / Imperial IPA   \n",
       "242                      More Cowbell  American Double / Imperial IPA   \n",
       "310   Bay of Bengal Double IPA (2014)  American Double / Imperial IPA   \n",
       "1393               Troopers Alley IPA                    American IPA   \n",
       "269                     Dead-Eye DIPA  American Double / Imperial IPA   \n",
       "\n",
       "                                    name     score  \n",
       "88               Astoria Brewing Company  0.999865  \n",
       "784                    Modern Times Beer  0.999755  \n",
       "1253                       The Alchemist  0.999729  \n",
       "1254                       The Alchemist  0.999729  \n",
       "1123       Southern Star Brewing Company  0.999577  \n",
       "1121       Southern Star Brewing Company  0.999577  \n",
       "242        Buffalo Bayou Brewing Company  0.999540  \n",
       "310   Christian Moerlein Brewing Company  0.999437  \n",
       "1393          Wolf Hills Brewing Company  0.999355  \n",
       "269             Cape Ann Brewing Company  0.999120  "
      ]
     },
     "execution_count": 182,
     "metadata": {},
     "output_type": "execute_result"
    }
   ],
   "source": [
    "#top 10 results\n",
    "\n",
    "test_data[['name_beer','style','name','score']].sort_values(['score'],ascending=False).head(10)"
   ]
  },
  {
   "cell_type": "code",
   "execution_count": 185,
   "metadata": {
    "collapsed": false
   },
   "outputs": [
    {
     "data": {
      "text/html": [
       "<div>\n",
       "<table border=\"1\" class=\"dataframe\">\n",
       "  <thead>\n",
       "    <tr style=\"text-align: right;\">\n",
       "      <th></th>\n",
       "      <th>name_beer</th>\n",
       "      <th>style</th>\n",
       "      <th>name</th>\n",
       "    </tr>\n",
       "  </thead>\n",
       "  <tbody>\n",
       "    <tr>\n",
       "      <th>11</th>\n",
       "      <td>Hop Crisis</td>\n",
       "      <td>American Double / Imperial IPA</td>\n",
       "      <td>21st Amendment Brewery</td>\n",
       "    </tr>\n",
       "    <tr>\n",
       "      <th>49</th>\n",
       "      <td>The Brown Note</td>\n",
       "      <td>English Brown Ale</td>\n",
       "      <td>Against the Grain Brewery</td>\n",
       "    </tr>\n",
       "    <tr>\n",
       "      <th>280</th>\n",
       "      <td>Mutiny IPA</td>\n",
       "      <td>American IPA</td>\n",
       "      <td>Capital Brewery</td>\n",
       "    </tr>\n",
       "    <tr>\n",
       "      <th>491</th>\n",
       "      <td>Beaver Logger</td>\n",
       "      <td>American Pale Lager</td>\n",
       "      <td>Gore Range Brewery</td>\n",
       "    </tr>\n",
       "    <tr>\n",
       "      <th>636</th>\n",
       "      <td>House Lager</td>\n",
       "      <td>Keller Bier / Zwickel Bier</td>\n",
       "      <td>Jack's Abby Craft Lagers</td>\n",
       "    </tr>\n",
       "    <tr>\n",
       "      <th>679</th>\n",
       "      <td>Lancaster German Style Kölsch</td>\n",
       "      <td>Kölsch</td>\n",
       "      <td>Lancaster Brewing Company</td>\n",
       "    </tr>\n",
       "    <tr>\n",
       "      <th>720</th>\n",
       "      <td>Summer Paradise</td>\n",
       "      <td>American Pale Wheat Ale</td>\n",
       "      <td>Manayunk Brewing Company</td>\n",
       "    </tr>\n",
       "    <tr>\n",
       "      <th>805</th>\n",
       "      <td>Narragansett Bock</td>\n",
       "      <td>Bock</td>\n",
       "      <td>Narragansett Brewing Company</td>\n",
       "    </tr>\n",
       "    <tr>\n",
       "      <th>837</th>\n",
       "      <td>Wall's End</td>\n",
       "      <td>English Brown Ale</td>\n",
       "      <td>NorthGate Brewing</td>\n",
       "    </tr>\n",
       "    <tr>\n",
       "      <th>908</th>\n",
       "      <td>Cache La Porter</td>\n",
       "      <td>American Porter</td>\n",
       "      <td>Pateros Creek Brewing Company</td>\n",
       "    </tr>\n",
       "  </tbody>\n",
       "</table>\n",
       "</div>"
      ],
      "text/plain": [
       "                         name_beer                           style  \\\n",
       "11                      Hop Crisis  American Double / Imperial IPA   \n",
       "49                  The Brown Note               English Brown Ale   \n",
       "280                     Mutiny IPA                    American IPA   \n",
       "491                  Beaver Logger             American Pale Lager   \n",
       "636                    House Lager      Keller Bier / Zwickel Bier   \n",
       "679  Lancaster German Style Kölsch                          Kölsch   \n",
       "720                Summer Paradise         American Pale Wheat Ale   \n",
       "805              Narragansett Bock                            Bock   \n",
       "837                     Wall's End               English Brown Ale   \n",
       "908                Cache La Porter                 American Porter   \n",
       "\n",
       "                              name  \n",
       "11          21st Amendment Brewery  \n",
       "49       Against the Grain Brewery  \n",
       "280                Capital Brewery  \n",
       "491             Gore Range Brewery  \n",
       "636       Jack's Abby Craft Lagers  \n",
       "679      Lancaster Brewing Company  \n",
       "720       Manayunk Brewing Company  \n",
       "805   Narragansett Brewing Company  \n",
       "837             NorthGate Brewing   \n",
       "908  Pateros Creek Brewing Company  "
      ]
     },
     "execution_count": 185,
     "metadata": {},
     "output_type": "execute_result"
    }
   ],
   "source": [
    "#compare to liked beers\n",
    "training_data[['name_beer','style','name']][training_data['like']==1].head(10)"
   ]
  },
  {
   "cell_type": "code",
   "execution_count": null,
   "metadata": {
    "collapsed": true
   },
   "outputs": [],
   "source": []
  }
 ],
 "metadata": {
  "kernelspec": {
   "display_name": "Python 2",
   "language": "python",
   "name": "python2"
  },
  "language_info": {
   "codemirror_mode": {
    "name": "ipython",
    "version": 2
   },
   "file_extension": ".py",
   "mimetype": "text/x-python",
   "name": "python",
   "nbconvert_exporter": "python",
   "pygments_lexer": "ipython2",
   "version": "2.7.10"
  }
 },
 "nbformat": 4,
 "nbformat_minor": 1
}
